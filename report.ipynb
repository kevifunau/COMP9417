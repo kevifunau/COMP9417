{
 "cells": [
  {
   "cell_type": "code",
   "execution_count": 49,
   "metadata": {},
   "outputs": [],
   "source": [
    "import pandas as pd\n",
    "import numpy as np\n",
    "from sklearn.model_selection import train_test_split\n",
    "from sklearn.metrics.pairwise import pairwise_distances"
   ]
  },
  {
   "cell_type": "code",
   "execution_count": 50,
   "metadata": {},
   "outputs": [],
   "source": [
    "# read data from csc file\n",
    "header = [\"userId\",\"movieId\",'rating','timestamp']\n",
    "data = pd.read_csv(\"ml-100k/u.data\",sep=\"\\t\",names=header)\n",
    "train_data, test_data = train_test_split(data, test_size = 0.1)"
   ]
  },
  {
   "cell_type": "code",
   "execution_count": 51,
   "metadata": {},
   "outputs": [],
   "source": [
    "train_x = np.array(train_data)\n",
    "test_y = np.array(test_data)"
   ]
  },
  {
   "cell_type": "code",
   "execution_count": 52,
   "metadata": {},
   "outputs": [],
   "source": [
    "rate_average = np.mean(train_x[:,2])"
   ]
  },
  {
   "cell_type": "code",
   "execution_count": 55,
   "metadata": {},
   "outputs": [],
   "source": [
    "item_2_user = {}\n",
    "user_2_item = {}"
   ]
  },
  {
   "cell_type": "code",
   "execution_count": 68,
   "metadata": {},
   "outputs": [],
   "source": [
    "for uid,mid,rate,time in train_x:\n",
    "    item_2_user.setdefault(mid,{})\n",
    "    user_2_item.setdefault(uid,{})\n",
    "    item_2_user[mid][uid]= rate\n",
    "    user_2_item[uid][mid]= rate"
   ]
  },
  {
   "cell_type": "code",
   "execution_count": 69,
   "metadata": {},
   "outputs": [],
   "source": [
    "q_item ={}"
   ]
  },
  {
   "cell_type": "code",
   "execution_count": 70,
   "metadata": {},
   "outputs": [
    {
     "data": {
      "text/plain": [
       "array([[0.25111119],\n",
       "       [0.02723537],\n",
       "       [0.18961941],\n",
       "       [0.00769763],\n",
       "       [0.02116668],\n",
       "       [0.19296276],\n",
       "       [0.12714127],\n",
       "       [0.05950473],\n",
       "       [0.03581349],\n",
       "       [0.25995596],\n",
       "       [0.34491464],\n",
       "       [0.34716489],\n",
       "       [0.15951148],\n",
       "       [0.20362262],\n",
       "       [0.33506264]])"
      ]
     },
     "execution_count": 70,
     "metadata": {},
     "output_type": "execute_result"
    }
   ],
   "source": [
    "q_item.setdefault(2, np.random.random((15, 1)) * np.sqrt(15) / 10)"
   ]
  },
  {
   "cell_type": "code",
   "execution_count": 76,
   "metadata": {},
   "outputs": [
    {
     "data": {
      "text/plain": [
       "array([[0.25111119],\n",
       "       [0.02723537],\n",
       "       [0.18961941],\n",
       "       [0.00769763],\n",
       "       [0.02116668],\n",
       "       [0.19296276],\n",
       "       [0.12714127],\n",
       "       [0.05950473],\n",
       "       [0.03581349],\n",
       "       [0.25995596],\n",
       "       [0.34491464],\n",
       "       [0.34716489],\n",
       "       [0.15951148],\n",
       "       [0.20362262],\n",
       "       [0.33506264]])"
      ]
     },
     "execution_count": 76,
     "metadata": {},
     "output_type": "execute_result"
    }
   ],
   "source": [
    "q_item[2]"
   ]
  },
  {
   "cell_type": "code",
   "execution_count": null,
   "metadata": {},
   "outputs": [],
   "source": []
  },
  {
   "cell_type": "code",
   "execution_count": null,
   "metadata": {},
   "outputs": [],
   "source": []
  },
  {
   "cell_type": "code",
   "execution_count": null,
   "metadata": {},
   "outputs": [],
   "source": []
  },
  {
   "cell_type": "code",
   "execution_count": null,
   "metadata": {},
   "outputs": [],
   "source": []
  },
  {
   "cell_type": "code",
   "execution_count": null,
   "metadata": {},
   "outputs": [],
   "source": []
  }
 ],
 "metadata": {
  "kernelspec": {
   "display_name": "Python 3",
   "language": "python",
   "name": "python3"
  },
  "language_info": {
   "codemirror_mode": {
    "name": "ipython",
    "version": 3
   },
   "file_extension": ".py",
   "mimetype": "text/x-python",
   "name": "python",
   "nbconvert_exporter": "python",
   "pygments_lexer": "ipython3",
   "version": "3.6.4"
  }
 },
 "nbformat": 4,
 "nbformat_minor": 2
}
